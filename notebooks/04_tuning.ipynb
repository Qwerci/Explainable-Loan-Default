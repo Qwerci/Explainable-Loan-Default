{
 "cells": [
  {
   "cell_type": "code",
   "execution_count": 1,
   "id": "7ef0a2ef",
   "metadata": {},
   "outputs": [],
   "source": [
    "import pandas as pd\n",
    "from sklearn.model_selection import GridSearchCV\n",
    "from sklearn.ensemble import RandomForestClassifier\n",
    "from xgboost import XGBClassifier\n",
    "import joblib\n"
   ]
  },
  {
   "cell_type": "code",
   "execution_count": 2,
   "id": "97dde775",
   "metadata": {},
   "outputs": [],
   "source": [
    "X_train = pd.read_csv(r\"C:\\Users\\theow\\Documents\\Project\\Explainable-Loan-Default\\data\\processed\\X_train.csv\")\n",
    "y_train = pd.read_csv(r\"C:\\Users\\theow\\Documents\\Project\\Explainable-Loan-Default\\data\\processed\\y_train.csv\").values.ravel()"
   ]
  },
  {
   "cell_type": "markdown",
   "id": "bdf4d1b8",
   "metadata": {},
   "source": [
    "Random Forest Hyperparameter Tuning"
   ]
  },
  {
   "cell_type": "code",
   "execution_count": 5,
   "id": "f6952712",
   "metadata": {},
   "outputs": [
    {
     "name": "stdout",
     "output_type": "stream",
     "text": [
      "Fitting 5 folds for each of 48 candidates, totalling 240 fits\n",
      "✅ Best RF Params: {'bootstrap': False, 'max_depth': 20, 'min_samples_leaf': 1, 'min_samples_split': 2, 'n_estimators': 200}\n",
      "✅ Best RF AUC: 0.9351493646015416\n"
     ]
    },
    {
     "data": {
      "text/plain": [
       "['C:\\\\Users\\\\theow\\\\Documents\\\\Project\\\\Explainable-Loan-Default\\\\models\\\\best_rf_model.pkl']"
      ]
     },
     "execution_count": 5,
     "metadata": {},
     "output_type": "execute_result"
    }
   ],
   "source": [
    "rf = RandomForestClassifier(random_state=42)\n",
    "\n",
    "rf_param_grid = {\n",
    "    'n_estimators': [100, 200],\n",
    "    'max_depth': [None, 10, 20],\n",
    "    'min_samples_split': [2, 5],\n",
    "    'min_samples_leaf': [1, 2],\n",
    "    'bootstrap': [True, False]\n",
    "}\n",
    "\n",
    "rf_grid = GridSearchCV(\n",
    "    estimator=rf,\n",
    "    param_grid=rf_param_grid,\n",
    "    cv=5,\n",
    "    scoring='roc_auc',\n",
    "    verbose=1,\n",
    "    n_jobs=-1\n",
    ")\n",
    "\n",
    "rf_grid.fit(X_train, y_train)\n",
    "\n",
    "print(\"✅ Best RF Params:\", rf_grid.best_params_)\n",
    "print(\"✅ Best RF AUC:\", rf_grid.best_score_)\n",
    "joblib.dump(rf_grid.best_estimator_, r\"C:\\Users\\theow\\Documents\\Project\\Explainable-Loan-Default\\models\\best_rf_model.pkl\")\n"
   ]
  },
  {
   "cell_type": "markdown",
   "id": "9597a138",
   "metadata": {},
   "source": [
    "XGBoost Hyperparameter Tuning"
   ]
  },
  {
   "cell_type": "code",
   "execution_count": 6,
   "id": "8b83144d",
   "metadata": {},
   "outputs": [
    {
     "name": "stdout",
     "output_type": "stream",
     "text": [
      "Fitting 5 folds for each of 72 candidates, totalling 360 fits\n",
      "✅ Best XGB Params: {'colsample_bytree': 1, 'learning_rate': 0.2, 'max_depth': 5, 'n_estimators': 200, 'subsample': 1}\n",
      "✅ Best XGB AUC: 0.9481140834519085\n"
     ]
    },
    {
     "name": "stderr",
     "output_type": "stream",
     "text": [
      "c:\\Users\\theow\\Documents\\Project\\Explainable-Loan-Default\\env\\Lib\\site-packages\\xgboost\\training.py:183: UserWarning: [12:15:11] WARNING: C:\\actions-runner\\_work\\xgboost\\xgboost\\src\\learner.cc:738: \n",
      "Parameters: { \"use_label_encoder\" } are not used.\n",
      "\n",
      "  bst.update(dtrain, iteration=i, fobj=obj)\n"
     ]
    },
    {
     "data": {
      "text/plain": [
       "['C:\\\\Users\\\\theow\\\\Documents\\\\Project\\\\Explainable-Loan-Default\\\\models\\\\best_xgb_model.pkl']"
      ]
     },
     "execution_count": 6,
     "metadata": {},
     "output_type": "execute_result"
    }
   ],
   "source": [
    "xgb = XGBClassifier(use_label_encoder=False, eval_metric='logloss')\n",
    "\n",
    "xgb_param_grid = {\n",
    "    'n_estimators': [100, 200],\n",
    "    'max_depth': [3, 5, 7],\n",
    "    'learning_rate': [0.01, 0.1, 0.2],\n",
    "    'subsample': [0.7, 1],\n",
    "    'colsample_bytree': [0.7, 1]\n",
    "}\n",
    "\n",
    "xgb_grid = GridSearchCV(\n",
    "    estimator=xgb,\n",
    "    param_grid=xgb_param_grid,\n",
    "    cv=5,\n",
    "    scoring='roc_auc',\n",
    "    verbose=1,\n",
    "    n_jobs=-1\n",
    ")\n",
    "\n",
    "xgb_grid.fit(X_train, y_train)\n",
    "\n",
    "print(\"✅ Best XGB Params:\", xgb_grid.best_params_)\n",
    "print(\"✅ Best XGB AUC:\", xgb_grid.best_score_)\n",
    "joblib.dump(xgb_grid.best_estimator_, r\"C:\\Users\\theow\\Documents\\Project\\Explainable-Loan-Default\\models\\best_xgb_model.pkl\")\n"
   ]
  },
  {
   "cell_type": "code",
   "execution_count": 9,
   "id": "8f5d0e01",
   "metadata": {},
   "outputs": [],
   "source": [
    "pd.DataFrame(rf_grid.cv_results_).to_csv(r\"C:\\Users\\theow\\Documents\\Project\\Explainable-Loan-Default\\results\\rf_grid_results.csv\", index=False)\n",
    "pd.DataFrame(xgb_grid.cv_results_).to_csv(r\"C:\\Users\\theow\\Documents\\Project\\Explainable-Loan-Default\\results\\xgb_grid_results.csv\", index=False)"
   ]
  },
  {
   "cell_type": "code",
   "execution_count": null,
   "id": "f5b08ba9",
   "metadata": {},
   "outputs": [],
   "source": []
  }
 ],
 "metadata": {
  "kernelspec": {
   "display_name": "env",
   "language": "python",
   "name": "python3"
  },
  "language_info": {
   "codemirror_mode": {
    "name": "ipython",
    "version": 3
   },
   "file_extension": ".py",
   "mimetype": "text/x-python",
   "name": "python",
   "nbconvert_exporter": "python",
   "pygments_lexer": "ipython3",
   "version": "3.12.4"
  }
 },
 "nbformat": 4,
 "nbformat_minor": 5
}
